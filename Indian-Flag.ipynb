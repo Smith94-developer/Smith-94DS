{
 "cells": [
  {
   "cell_type": "code",
   "execution_count": 1,
   "metadata": {},
   "outputs": [],
   "source": [
    "import turtle\n",
    "from turtle import*"
   ]
  },
  {
   "cell_type": "code",
   "execution_count": 2,
   "metadata": {},
   "outputs": [],
   "source": [
    "#screen for output\n",
    "screen = turtle.Screen()"
   ]
  },
  {
   "cell_type": "code",
   "execution_count": 3,
   "metadata": {},
   "outputs": [],
   "source": [
    "# Defining a turtle Instance\n",
    "t = turtle.Turtle()\n",
    "speed(0)"
   ]
  },
  {
   "cell_type": "code",
   "execution_count": 4,
   "metadata": {},
   "outputs": [],
   "source": [
    "# initially penup()\n",
    "t.penup()\n",
    "t.goto(-400, 250)\n",
    "t.pendown()"
   ]
  },
  {
   "cell_type": "code",
   "execution_count": 5,
   "metadata": {},
   "outputs": [],
   "source": [
    "# Orange Rectangle\n",
    "#white rectangle\n",
    "t.color(\"orange\")\n",
    "t.begin_fill()\n",
    "t.forward(800)\n",
    "t.right(90)\n",
    "t.forward(167)\n",
    "t.right(90)\n",
    "t.forward(800)\n",
    "t.end_fill()\n",
    "t.left(90)\n",
    "t.forward(167)"
   ]
  },
  {
   "cell_type": "code",
   "execution_count": null,
   "metadata": {},
   "outputs": [],
   "source": [
    "# Green Rectangle\n",
    "t.color(\"green\")\n",
    "t.begin_fill()\n",
    "t.forward(167)\n",
    "t.left(90)\n",
    "t.forward(800)\n",
    "t.left(90)\n",
    "t.forward(167)\n",
    "t.end_fill()"
   ]
  },
  {
   "cell_type": "code",
   "execution_count": null,
   "metadata": {},
   "outputs": [],
   "source": [
    "# Big Blue Circle\n",
    "t.penup()\n",
    "t.goto(70, 0)\n",
    "t.pendown()\n",
    "t.color(\"navy\")\n",
    "t.begin_fill()\n",
    "t.circle(70)\n",
    "t.end_fill()\n",
    "# Big White Circle\n",
    "t.penup()\n",
    "t.goto(60, 0)\n",
    "t.pendown()\n",
    "t.color(\"white\")\n",
    "t.begin_fill()\n",
    "t.circle(60)\n",
    "t.end_fill()"
   ]
  },
  {
   "cell_type": "code",
   "execution_count": null,
   "metadata": {},
   "outputs": [],
   "source": [
    "# Mini Blue Circles\n",
    "t.penup()\n",
    "t.goto(-57, -8)\n",
    "t.pendown()\n",
    "t.color(\"navy\")\n",
    "for i in range(24):\n",
    "\tt.begin_fill()\n",
    "\tt.circle(3)\n",
    "\tt.end_fill()\n",
    "\tt.penup()\n",
    "\tt.forward(15)\n",
    "\tt.right(15)\n",
    "\tt.pendown()"
   ]
  },
  {
   "cell_type": "code",
   "execution_count": null,
   "metadata": {},
   "outputs": [],
   "source": [
    "# Small Blue Circle\n",
    "t.penup()\n",
    "t.goto(20, 0)\n",
    "t.pendown()\n",
    "t.begin_fill()\n",
    "t.circle(20)\n",
    "t.end_fill()\n",
    "# Spokes\n",
    "t.penup()\n",
    "t.goto(0, 0)\n",
    "t.pendown()\n",
    "t.pensize(2)\n",
    "for i in range(24):\n",
    "\tt.forward(60)\n",
    "\tt.backward(60)\n",
    "\tt.left(15)"
   ]
  },
  {
   "cell_type": "code",
   "execution_count": null,
   "metadata": {},
   "outputs": [],
   "source": [
    "#to hold the\n",
    "#output window\n",
    "turtle.done()"
   ]
  }
 ],
 "metadata": {
  "kernelspec": {
   "display_name": "Python 3",
   "language": "python",
   "name": "python3"
  },
  "language_info": {
   "codemirror_mode": {
    "name": "ipython",
    "version": 3
   },
   "file_extension": ".py",
   "mimetype": "text/x-python",
   "name": "python",
   "nbconvert_exporter": "python",
   "pygments_lexer": "ipython3",
   "version": "3.11.2"
  },
  "orig_nbformat": 4
 },
 "nbformat": 4,
 "nbformat_minor": 2
}
