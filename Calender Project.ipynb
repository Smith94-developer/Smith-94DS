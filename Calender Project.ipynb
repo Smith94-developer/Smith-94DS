{
 "cells": [
  {
   "cell_type": "code",
   "execution_count": 3,
   "metadata": {},
   "outputs": [
    {
     "name": "stdout",
     "output_type": "stream",
     "text": [
      "   September 2023\n",
      "Mo Tu We Th Fr Sa Su\n",
      "             1  2  3\n",
      " 4  5  6  7  8  9 10\n",
      "11 12 13 14 15 16 17\n",
      "18 19 20 21 22 23 24\n",
      "25 26 27 28 29 30\n",
      "\n"
     ]
    }
   ],
   "source": [
    "import calendar\n",
    "print(calendar.month(2023,9))"
   ]
  },
  {
   "cell_type": "code",
   "execution_count": 6,
   "metadata": {},
   "outputs": [
    {
     "name": "stdout",
     "output_type": "stream",
     "text": [
      "                                                       2023\n",
      "\n",
      "             January                                 February                                 March\n",
      "Mon  Tue  Wed  Thu  Fri  Sat  Sun       Mon  Tue  Wed  Thu  Fri  Sat  Sun       Mon  Tue  Wed  Thu  Fri  Sat  Sun\n",
      "                                1                   1    2    3    4    5                   1    2    3    4    5\n",
      "  2    3    4    5    6    7    8         6    7    8    9   10   11   12         6    7    8    9   10   11   12\n",
      "  9   10   11   12   13   14   15        13   14   15   16   17   18   19        13   14   15   16   17   18   19\n",
      " 16   17   18   19   20   21   22        20   21   22   23   24   25   26        20   21   22   23   24   25   26\n",
      " 23   24   25   26   27   28   29        27   28                                 27   28   29   30   31\n",
      " 30   31\n",
      "\n",
      "              April                                    May                                     June\n",
      "Mon  Tue  Wed  Thu  Fri  Sat  Sun       Mon  Tue  Wed  Thu  Fri  Sat  Sun       Mon  Tue  Wed  Thu  Fri  Sat  Sun\n",
      "                           1    2         1    2    3    4    5    6    7                        1    2    3    4\n",
      "  3    4    5    6    7    8    9         8    9   10   11   12   13   14         5    6    7    8    9   10   11\n",
      " 10   11   12   13   14   15   16        15   16   17   18   19   20   21        12   13   14   15   16   17   18\n",
      " 17   18   19   20   21   22   23        22   23   24   25   26   27   28        19   20   21   22   23   24   25\n",
      " 24   25   26   27   28   29   30        29   30   31                            26   27   28   29   30\n",
      "\n",
      "               July                                   August                                September\n",
      "Mon  Tue  Wed  Thu  Fri  Sat  Sun       Mon  Tue  Wed  Thu  Fri  Sat  Sun       Mon  Tue  Wed  Thu  Fri  Sat  Sun\n",
      "                           1    2              1    2    3    4    5    6                             1    2    3\n",
      "  3    4    5    6    7    8    9         7    8    9   10   11   12   13         4    5    6    7    8    9   10\n",
      " 10   11   12   13   14   15   16        14   15   16   17   18   19   20        11   12   13   14   15   16   17\n",
      " 17   18   19   20   21   22   23        21   22   23   24   25   26   27        18   19   20   21   22   23   24\n",
      " 24   25   26   27   28   29   30        28   29   30   31                       25   26   27   28   29   30\n",
      " 31\n",
      "\n",
      "             October                                 November                                December\n",
      "Mon  Tue  Wed  Thu  Fri  Sat  Sun       Mon  Tue  Wed  Thu  Fri  Sat  Sun       Mon  Tue  Wed  Thu  Fri  Sat  Sun\n",
      "                                1                   1    2    3    4    5                             1    2    3\n",
      "  2    3    4    5    6    7    8         6    7    8    9   10   11   12         4    5    6    7    8    9   10\n",
      "  9   10   11   12   13   14   15        13   14   15   16   17   18   19        11   12   13   14   15   16   17\n",
      " 16   17   18   19   20   21   22        20   21   22   23   24   25   26        18   19   20   21   22   23   24\n",
      " 23   24   25   26   27   28   29        27   28   29   30                       25   26   27   28   29   30   31\n",
      " 30   31\n",
      "\n"
     ]
    }
   ],
   "source": [
    "import calendar\n",
    "print(calendar.calendar(2023, w=4))"
   ]
  }
 ],
 "metadata": {
  "kernelspec": {
   "display_name": "Python 3",
   "language": "python",
   "name": "python3"
  },
  "language_info": {
   "codemirror_mode": {
    "name": "ipython",
    "version": 3
   },
   "file_extension": ".py",
   "mimetype": "text/x-python",
   "name": "python",
   "nbconvert_exporter": "python",
   "pygments_lexer": "ipython3",
   "version": "3.11.2"
  },
  "orig_nbformat": 4
 },
 "nbformat": 4,
 "nbformat_minor": 2
}
