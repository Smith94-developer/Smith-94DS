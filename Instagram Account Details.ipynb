{
 "cells": [
  {
   "cell_type": "code",
   "execution_count": 1,
   "metadata": {},
   "outputs": [
    {
     "name": "stdout",
     "output_type": "stream",
     "text": [
      "Collecting instaloader\n",
      "  Downloading instaloader-4.10.tar.gz (62 kB)\n",
      "     -------------------------------------- 62.5/62.5 kB 479.0 kB/s eta 0:00:00\n",
      "  Preparing metadata (setup.py): started\n",
      "  Preparing metadata (setup.py): finished with status 'done'\n",
      "Collecting requests>=2.4\n",
      "  Downloading requests-2.31.0-py3-none-any.whl (62 kB)\n",
      "     ---------------------------------------- 62.6/62.6 kB 1.7 MB/s eta 0:00:00\n",
      "Collecting charset-normalizer<4,>=2\n",
      "  Downloading charset_normalizer-3.2.0-cp311-cp311-win_amd64.whl (96 kB)\n",
      "     ---------------------------------------- 96.6/96.6 kB 1.8 MB/s eta 0:00:00\n",
      "Collecting idna<4,>=2.5\n",
      "  Downloading idna-3.4-py3-none-any.whl (61 kB)\n",
      "     ---------------------------------------- 61.5/61.5 kB 1.6 MB/s eta 0:00:00\n",
      "Collecting urllib3<3,>=1.21.1\n",
      "  Downloading urllib3-2.0.4-py3-none-any.whl (123 kB)\n",
      "     -------------------------------------- 123.9/123.9 kB 1.8 MB/s eta 0:00:00\n",
      "Collecting certifi>=2017.4.17\n",
      "  Downloading certifi-2023.7.22-py3-none-any.whl (158 kB)\n",
      "     -------------------------------------- 158.3/158.3 kB 1.9 MB/s eta 0:00:00\n",
      "Installing collected packages: urllib3, idna, charset-normalizer, certifi, requests, instaloader\n",
      "  Running setup.py install for instaloader: started\n",
      "  Running setup.py install for instaloader: finished with status 'done'\n",
      "Successfully installed certifi-2023.7.22 charset-normalizer-3.2.0 idna-3.4 instaloader-4.10 requests-2.31.0 urllib3-2.0.4\n",
      "Note: you may need to restart the kernel to use updated packages.\n"
     ]
    },
    {
     "name": "stderr",
     "output_type": "stream",
     "text": [
      "  DEPRECATION: instaloader is being installed using the legacy 'setup.py install' method, because it does not have a 'pyproject.toml' and the 'wheel' package is not installed. pip 23.1 will enforce this behaviour change. A possible replacement is to enable the '--use-pep517' option. Discussion can be found at https://github.com/pypa/pip/issues/8559\n",
      "\n",
      "[notice] A new release of pip available: 22.3.1 -> 23.2.1\n",
      "[notice] To update, run: python.exe -m pip install --upgrade pip\n"
     ]
    }
   ],
   "source": [
    "pip install instaloader"
   ]
  },
  {
   "cell_type": "code",
   "execution_count": 2,
   "metadata": {},
   "outputs": [],
   "source": [
    "# Import instaloader package\n",
    "import instaloader"
   ]
  },
  {
   "cell_type": "code",
   "execution_count": 3,
   "metadata": {},
   "outputs": [],
   "source": [
    "# creating an Instaloader() object\n",
    "ig=instaloader.Instaloader()"
   ]
  },
  {
   "cell_type": "code",
   "execution_count": 19,
   "metadata": {},
   "outputs": [],
   "source": [
    "# Taking the instagram username as input from user\n",
    "usrname=input(\"Enter username:\")"
   ]
  },
  {
   "cell_type": "code",
   "execution_count": 20,
   "metadata": {},
   "outputs": [],
   "source": [
    "#Fetching the details of provided useraname using instaloder object\n",
    "profile=instaloader.Profile.from_username(ig.context, usrname)"
   ]
  },
  {
   "cell_type": "code",
   "execution_count": 21,
   "metadata": {},
   "outputs": [
    {
     "name": "stdout",
     "output_type": "stream",
     "text": [
      "Username:  bini_21_2000\n",
      "Number of Posts Uploaded:  217\n",
      "bini_21_2000 is having 73014 followers.\n",
      "bini_21_2000 is following 380 people\n",
      "Bio:  বাঙালি(𝙱𝚎𝚗𝚐𝚊𝚕𝚒)_𝚆𝚎 𝚐𝚘 𝙶𝚢𝚖💪🕉️🧿_গল্প প্রেমী📜অবশ্যই নিজে পড়বোনা🥱𝚍𝚎𝚝𝚎𝚌𝚝𝚒𝚟𝚎 𝚜𝚝𝚘𝚛𝚒𝚎𝚜 𝚊𝚛𝚎 𝚕𝚘𝚟𝚎❤️_বলতে পারো খাদ্য রসিক_𝚏𝚕𝚘𝚠𝚎𝚛 icecream  𝚛𝚊𝚒𝚗 𝚖𝚘𝚞𝚗𝚝𝚊𝚒𝚗 𝚙𝚕𝚊𝚗𝚝_♊\n",
      "Stored ID 48775374812 for profile bini_21_2000.\n",
      "bini_21_2000\\2023-07-24_07-53-08_UTC_profile_pic.jpg \n"
     ]
    }
   ],
   "source": [
    "# Printing the fetched details and storing the profile pic of that account\n",
    "print(\"Username: \", profile.username)\n",
    "print(\"Number of Posts Uploaded: \", profile.mediacount)\n",
    "print(profile.username+\" is having \" + str(profile.followers)+' followers.')\n",
    "print(profile.username+\" is following \" + str(profile.followees)+' people')\n",
    "print(\"Bio: \", profile.biography)\n",
    "instaloader.Instaloader().download_profile(usrname,profile_pic_only=True)"
   ]
  }
 ],
 "metadata": {
  "kernelspec": {
   "display_name": "Python 3",
   "language": "python",
   "name": "python3"
  },
  "language_info": {
   "codemirror_mode": {
    "name": "ipython",
    "version": 3
   },
   "file_extension": ".py",
   "mimetype": "text/x-python",
   "name": "python",
   "nbconvert_exporter": "python",
   "pygments_lexer": "ipython3",
   "version": "3.11.2"
  },
  "orig_nbformat": 4
 },
 "nbformat": 4,
 "nbformat_minor": 2
}
