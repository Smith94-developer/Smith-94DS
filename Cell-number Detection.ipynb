{
 "cells": [
  {
   "cell_type": "code",
   "execution_count": 3,
   "metadata": {},
   "outputs": [
    {
     "name": "stdout",
     "output_type": "stream",
     "text": [
      "Collecting phonenumbers\n",
      "  Downloading phonenumbers-8.13.20-py2.py3-none-any.whl (2.6 MB)\n",
      "     ---------------------------------------- 2.6/2.6 MB 5.5 MB/s eta 0:00:00\n",
      "Installing collected packages: phonenumbers\n",
      "Successfully installed phonenumbers-8.13.20\n",
      "Note: you may need to restart the kernel to use updated packages.\n"
     ]
    },
    {
     "name": "stderr",
     "output_type": "stream",
     "text": [
      "\n",
      "[notice] A new release of pip available: 22.3.1 -> 23.2.1\n",
      "[notice] To update, run: python.exe -m pip install --upgrade pip\n"
     ]
    }
   ],
   "source": [
    "pip install phonenumbers"
   ]
  },
  {
   "cell_type": "code",
   "execution_count": 7,
   "metadata": {},
   "outputs": [],
   "source": [
    "import phonenumbers\n",
    "from phonenumbers import carrier, geocoder, timezone"
   ]
  },
  {
   "cell_type": "code",
   "execution_count": 10,
   "metadata": {},
   "outputs": [
    {
     "name": "stdout",
     "output_type": "stream",
     "text": [
      "Phone Number belongs to region : ('Africa/Lagos',)\n",
      "Service Provider :  MTN\n",
      "Phone number belongs to country :  Nigeria\n"
     ]
    }
   ],
   "source": [
    "mobileNo=input(\"Enter Phone number with country code(+xx xxxxxxxxx):\")\n",
    "mobileNo=phonenumbers.parse(mobileNo)\n",
    "if phonenumbers.is_valid_number(mobileNo):\n",
    "    print('Phone Number belongs to region :',timezone.time_zones_for_number(mobileNo))\n",
    "    print('Service Provider : ',carrier.name_for_number(mobileNo,\"en\"))\n",
    "    print('Phone number belongs to country : ',geocoder.description_for_number(mobileNo,\"en\"))\n",
    "else:\n",
    "    print(\"Please enter valid mobile number\")"
   ]
  }
 ],
 "metadata": {
  "kernelspec": {
   "display_name": "Python 3",
   "language": "python",
   "name": "python3"
  },
  "language_info": {
   "codemirror_mode": {
    "name": "ipython",
    "version": 3
   },
   "file_extension": ".py",
   "mimetype": "text/x-python",
   "name": "python",
   "nbconvert_exporter": "python",
   "pygments_lexer": "ipython3",
   "version": "3.11.2"
  },
  "orig_nbformat": 4
 },
 "nbformat": 4,
 "nbformat_minor": 2
}
